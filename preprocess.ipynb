{
  "nbformat": 4,
  "nbformat_minor": 0,
  "metadata": {
    "colab": {
      "name": "preprocess.ipynb",
      "provenance": [],
      "include_colab_link": true
    },
    "kernelspec": {
      "name": "python3",
      "display_name": "Python 3"
    }
  },
  "cells": [
    {
      "cell_type": "markdown",
      "metadata": {
        "id": "view-in-github",
        "colab_type": "text"
      },
      "source": [
        "<a href=\"https://colab.research.google.com/github/t080/jawiki-headline-dataset/blob/master/preprocess.ipynb\" target=\"_parent\"><img src=\"https://colab.research.google.com/assets/colab-badge.svg\" alt=\"Open In Colab\"/></a>"
      ]
    },
    {
      "cell_type": "markdown",
      "metadata": {
        "id": "57P5KbllbKyZ",
        "colab_type": "text"
      },
      "source": [
        "# Preprocess Japanese Wikinews Headline Dataset\n"
      ]
    },
    {
      "cell_type": "markdown",
      "metadata": {
        "id": "erchs4-6bGq4",
        "colab_type": "text"
      },
      "source": [
        "## Settings"
      ]
    },
    {
      "cell_type": "code",
      "metadata": {
        "id": "dODRbU5eZaSR",
        "colab_type": "code",
        "colab": {},
        "cellView": "form"
      },
      "source": [
        "#@title Mount google drive\n",
        "from google.colab import drive\n",
        "drive.mount('/content/drive')"
      ],
      "execution_count": 0,
      "outputs": []
    },
    {
      "cell_type": "code",
      "metadata": {
        "id": "XwIx75D5aoWd",
        "colab_type": "code",
        "colab": {},
        "cellView": "form"
      },
      "source": [
        "#@title Setup Environment\n",
        "!pip install --quiet mojimoji\n",
        "!pip install --quiet tqdm\n",
        "!pip install --quiet nltk\n",
        "\n",
        "!apt install aptitude\n",
        "!aptitude install mecab libmecab-dev mecab-ipadic-utf8 git make curl xz-utils file -y\n",
        "!pip install --quiet mecab-python3==0.7"
      ],
      "execution_count": 0,
      "outputs": []
    },
    {
      "cell_type": "code",
      "metadata": {
        "id": "CUGz1EXrZbuP",
        "colab_type": "code",
        "colab": {},
        "cellView": "form"
      },
      "source": [
        "#@title Setup common imports and functions\n",
        "import json\n",
        "import gzip\n",
        "import os\n",
        "import re\n",
        "import nltk\n",
        "import MeCab\n",
        "import pandas as pd\n",
        "import matplotlib.pyplot as plt\n",
        "from tqdm import tqdm\n",
        "\n",
        "\n",
        "def count_lines(path):\n",
        "    with gzip.open(path, 'r') as f:\n",
        "        return sum([1 for _ in f])"
      ],
      "execution_count": 0,
      "outputs": []
    },
    {
      "cell_type": "markdown",
      "metadata": {
        "id": "83wl5u-WdKTr",
        "colab_type": "text"
      },
      "source": [
        "## Preprocessing of Japanese Wikinews"
      ]
    },
    {
      "cell_type": "code",
      "metadata": {
        "id": "kGyXwVH-qpal",
        "colab_type": "code",
        "colab": {},
        "cellView": "form"
      },
      "source": [
        "#@title Functions\n",
        "mecab = MeCab.Tagger('-O wakati')\n",
        "starts_pattern = re.compile(r'【[0-9年月日 ]+】')\n",
        "\n",
        "\n",
        "def preprocess(json_line, is_document=True):\n",
        "    json_line = json_line.rstrip().replace('\\u3000', '').replace(' ', '')\n",
        "\n",
        "    if is_document:\n",
        "        if starts_pattern.search(json_line) is None:\n",
        "            return None\n",
        "        json_line = json_line[starts_pattern.search(json_line).end():]\n",
        "        sents = re.split('[。！？!?]', json_line)         \n",
        "        while '' in sents:\n",
        "            sents.pop(sents.index(''))\n",
        "    else:\n",
        "        sents = [json_line]\n",
        "    \n",
        "    tokenized = ' '.join(['<s> ' + mecab.parse(sent).rstrip() + '。 </s>' for sent in sents])\n",
        "    return tokenized"
      ],
      "execution_count": 0,
      "outputs": []
    },
    {
      "cell_type": "code",
      "metadata": {
        "id": "nwpLO_X_amix",
        "colab_type": "code",
        "colab": {
          "base_uri": "https://localhost:8080/",
          "height": 34
        },
        "cellView": "form",
        "outputId": "c9128f12-45a2-4d5a-99d7-34fb493e8916"
      },
      "source": [
        "#@title Preprocess\n",
        "data_path = \"/content/drive/My Drive/wikinews-headline/jawikinews-20190909-cirrussearch-content.json.gz\"\n",
        "preprocessed_path = \"/content/drive/My Drive/wikinews-headline/preprocessed-data.csv\"\n",
        "\n",
        "if os.path.exists(preprocessed_path):\n",
        "    raw = pd.read_csv(preprocessed_path)\n",
        "else:\n",
        "    articles = []\n",
        "    headlines = []\n",
        "    n_lines = count_lines(data_path)\n",
        "    with gzip.open(data_path) as f:\n",
        "        for line in tqdm(f, total=n_lines):\n",
        "            json_line = json.loads(line)\n",
        "            if \"index\" not in json_line:\n",
        "                tokenized_article = preprocess(json_line[\"text\"])\n",
        "                tokenized_headline = preprocess(json_line[\"title\"], is_document=False)\n",
        "                if tokenized_article is not None:\n",
        "                    articles.append(tokenized_article)\n",
        "                    headlines.append(tokenized_headline)\n",
        "    raw = pd.DataFrame({'article': articles, 'headline': headlines})         "
      ],
      "execution_count": 5,
      "outputs": [
        {
          "output_type": "stream",
          "text": [
            "100%|██████████| 7416/7416 [00:03<00:00, 2068.53it/s]\n"
          ],
          "name": "stderr"
        }
      ]
    },
    {
      "cell_type": "code",
      "metadata": {
        "id": "LLS-FKmF3C2Q",
        "colab_type": "code",
        "colab": {
          "base_uri": "https://localhost:8080/",
          "height": 326
        },
        "cellView": "form",
        "outputId": "cf1255e2-b83a-4f88-b3b1-dbecc56041ff"
      },
      "source": [
        "#@title Display data statistics\n",
        "raw.head()\n",
        "print(f'Number of document: {len(raw)}')\n",
        "\n",
        "# count sentence in each document\n",
        "count_sentences = lambda x: x.count('</s>')\n",
        "raw['n_sents'] = raw['article'].map(count_sentences)\n",
        "\n",
        "# count word in each docunent\n",
        "count_words = lambda x: x.count(' ') + 1\n",
        "raw['n_words'] = raw['article'].map(count_words)\n",
        " \n",
        "# show data statistics\n",
        "plt.subplot(2, 1, 1)\n",
        "plt.xlim(1, 100)\n",
        "plt.title('n_sents')\n",
        "plt.hist(raw['n_sents'], bins=200)\n",
        "plt.show()\n",
        "\n",
        "plt.subplot(2, 1, 2)\n",
        "plt.xlim(1, 2000)\n",
        "plt.title('n_words')\n",
        "plt.hist(raw['n_words'], bins=200)\n",
        "plt.show()"
      ],
      "execution_count": 6,
      "outputs": [
        {
          "output_type": "stream",
          "text": [
            "Number of document: 3670\n"
          ],
          "name": "stdout"
        },
        {
          "output_type": "display_data",
          "data": {
            "image/png": "[encoded data removed]",
            "text/plain": [
              "<Figure size 432x288 with 1 Axes>"
            ]
          },
          "metadata": {
            "tags": []
          }
        },
        {
          "output_type": "display_data",
          "data": {
            "image/png": "[encoded data removed]",
            "text/plain": [
              "<Figure size 432x288 with 1 Axes>"
            ]
          },
          "metadata": {
            "tags": []
          }
        }
      ]
    },
    {
      "cell_type": "code",
      "metadata": {
        "id": "b3luR14H4vV9",
        "colab_type": "code",
        "colab": {},
        "cellView": "form"
      },
      "source": [
        "#@title Save preprocessed data\n",
        "if not os.path.exists(preprocessed_path):\n",
        "    raw.to_csv(preprocessed_path)"
      ],
      "execution_count": 0,
      "outputs": []
    },
    {
      "cell_type": "markdown",
      "metadata": {
        "id": "Z2vgnd5iBTLb",
        "colab_type": "text"
      },
      "source": [
        "## Construct a headline dataset"
      ]
    },
    {
      "cell_type": "code",
      "metadata": {
        "id": "z-UKMKw5OSwy",
        "colab_type": "code",
        "colab": {},
        "cellView": "both"
      },
      "source": [
        "#@title Functions\n",
        "def filter_sentences(doc, max_sents, max_tokens):\n",
        "    sents = doc.lstrip('<s> ').rstrip(' </s>').split(' </s> <s>')\n",
        "    while '' in sents:\n",
        "        sents.pop(sents.index(''))\n",
        "\n",
        "    if max_sents > 0:\n",
        "        sents = sents[:max_sents] \n",
        "        count_words = lambda xs: sum([x.count(' ') + 1 for x in xs])\n",
        "        n_words = count_words(sents)\n",
        "        while n_words > max_tokens:\n",
        "            max_sents -= 1\n",
        "            sents = sents[:max_sents]\n",
        "            n_words = count_words(sents)\n",
        "        if n_words == 0:\n",
        "            return None\n",
        "    return ' '.join(sents)\n",
        "    \n",
        "def generate_dataset(df, max_sents=3, max_tokens=128):\n",
        "    dataset = pd.DataFrame()\n",
        "    dataset['article'] = df['article'].apply(filter_sentences, args=(max_sents, max_tokens, ))\n",
        "    dataset['headline'] = df['headline'].map(lambda x: x.replace('<s>', '').replace('</s>', ''))\n",
        "    dataset = dataset.dropna()\n",
        "    \n",
        "    dataset['n_words'] = dataset['article'].map(lambda x: x.count(' ') + 1)\n",
        "    return dataset"
      ],
      "execution_count": 0,
      "outputs": []
    },
    {
      "cell_type": "code",
      "metadata": {
        "id": "YYxxjerLIRBr",
        "colab_type": "code",
        "outputId": "0f34a113-02ba-4726-911f-ae642876ebe5",
        "colab": {
          "base_uri": "https://localhost:8080/",
          "height": 281
        },
        "cellView": "form"
      },
      "source": [
        "#@title Construct datasets\n",
        "max_sents = 3 #@param {type: \"number\"}\n",
        "min_tokens = 10 #@param {type: \"number\"}\n",
        "max_tokens = 128 #@param {type: \"number\"}\n",
        "\n",
        "max_tokens = max_tokens if max_sents > 0 else 2000\n",
        "\n",
        "dataset = generate_dataset(\n",
        "    raw,\n",
        "    max_sents=max_sents,\n",
        "    max_tokens=max_tokens\n",
        ")\n",
        "\n",
        "dataset = dataset[dataset['n_words'] > min_tokens]\n",
        "\n",
        "plt.xlim(1, max_tokens)\n",
        "plt.title('Number of words in articles')\n",
        "plt.hist(dataset['n_words'], bins=50) \n",
        "plt.show()"
      ],
      "execution_count": 17,
      "outputs": [
        {
          "output_type": "display_data",
          "data": {
            "image/png": "[encoded data removed]",
            "text/plain": [
              "<Figure size 432x288 with 1 Axes>"
            ]
          },
          "metadata": {
            "tags": []
          }
        }
      ]
    },
    {
      "cell_type": "code",
      "metadata": {
        "id": "9sH4fJg4T6vL",
        "colab_type": "code",
        "colab": {},
        "cellView": "form"
      },
      "source": [
        "#@title Save a dataset\n",
        "dataset = dataset[['article', 'headline']]\n",
        "\n",
        "savedir = '/content/drive/My Drive/wikinews-headline/'\n",
        "filename = f'jwhd-s{max_sents}-w{max_tokens}.csv' if max_sents > 0 else 'jwhd-full-article.csv'\n",
        "path = os.path.join(savedir, filename)\n",
        "dataset.to_csv(path)"
      ],
      "execution_count": 0,
      "outputs": []
    },
    {
      "cell_type": "code",
      "metadata": {
        "id": "8sbnRVkeGW8E",
        "colab_type": "code",
        "colab": {
          "base_uri": "https://localhost:8080/",
          "height": 393
        },
        "cellView": "form",
        "outputId": "efe3dc0b-7d36-4089-e1f1-3d88d3991660"
      },
      "source": [
        "#@title Calculate n-gram overlap\n",
        "def ngram_overlap(line, ngram):\n",
        "    # from IPython.core.debugger import Pdb; Pdb().set_trace()\n",
        "    src_ngram = list(nltk.ngrams(line['article'].split(' '), ngram))\n",
        "    tgt_ngram = list(nltk.ngrams(line['headline'].split(' '), ngram))\n",
        "    match_ngram = 0\n",
        "    for ngram in tgt_ngram:\n",
        "        if ngram in src_ngram:\n",
        "            match_ngram += 1\n",
        "    return match_ngram/len(tgt_ngram)\n",
        "\n",
        "\n",
        "dataset['uni-gram'] = dataset.apply(ngram_overlap, axis=1, args=(1, ))\n",
        "dataset['bi-gram'] = dataset.apply(ngram_overlap, axis=1, args=(2, ))\n",
        "dataset['tri-gram'] = dataset.apply(ngram_overlap, axis=1, args=(3, ))\n",
        "dataset['4-gram'] = dataset.apply(ngram_overlap, axis=1, args=(4, ))\n",
        "\n",
        "\n",
        "# show data statistics\n",
        "plt.subplot(4, 1, 1)\n",
        "plt.xlim(0.0, 1.0)\n",
        "plt.title('uni-gram')\n",
        "plt.hist(dataset['uni-gram'], bins=50)\n",
        "plt.show()\n",
        "\n",
        "plt.subplot(4, 1, 2)\n",
        "plt.xlim(0.0, 1.0)\n",
        "plt.title('bi-gram')\n",
        "plt.hist(dataset['bi-gram'], bins=50)\n",
        "plt.show()\n",
        "\n",
        "plt.subplot(4, 1, 3)\n",
        "plt.xlim(0.0, 1.0)\n",
        "plt.title('tri-gram')\n",
        "plt.hist(dataset['tri-gram'], bins=50)\n",
        "plt.show()\n",
        "\n",
        "plt.subplot(4, 1, 4)\n",
        "plt.xlim(0.0, 1.0)\n",
        "plt.title('4-gram')\n",
        "plt.hist(dataset['4-gram'], bins=50)\n",
        "plt.show()\n"
      ],
      "execution_count": 19,
      "outputs": [
        {
          "output_type": "display_data",
          "data": {
            "image/png": "[encoded data removed]",
            "text/plain": [
              "<Figure size 432x288 with 1 Axes>"
            ]
          },
          "metadata": {
            "tags": []
          }
        },
        {
          "output_type": "display_data",
          "data": {
            "image/png": "[encoded data removed]",
            "text/plain": [
              "<Figure size 432x288 with 1 Axes>"
            ]
          },
          "metadata": {
            "tags": []
          }
        },
        {
          "output_type": "display_data",
          "data": {
            "image/png": "[encoded data removed]",
            "text/plain": [
              "<Figure size 432x288 with 1 Axes>"
            ]
          },
          "metadata": {
            "tags": []
          }
        },
        {
          "output_type": "display_data",
          "data": {
            "image/png": "[encoded data removed]",
            "text/plain": [
              "<Figure size 432x288 with 1 Axes>"
            ]
          },
          "metadata": {
            "tags": []
          }
        }
      ]
    },
    {
      "cell_type": "code",
      "metadata": {
        "id": "kTSgseLpsu0B",
        "colab_type": "code",
        "colab": {
          "base_uri": "https://localhost:8080/",
          "height": 87
        },
        "outputId": "7a9d7f03-d5f4-48f3-b76d-6612b6cd911b"
      },
      "source": [
        "print(f\"uni-gram: {dataset['uni-gram'].mean()*100:.4}%\")\n",
        "print(f\"bi-gram: {dataset['bi-gram'].mean()*100:.4}%\")\n",
        "print(f\"tri-gram: {dataset['tri-gram'].mean()*100:.4}%\")\n",
        "print(f\"4-gram: {dataset['4-gram'].mean()*100:.4}%\")"
      ],
      "execution_count": 20,
      "outputs": [
        {
          "output_type": "stream",
          "text": [
            "uni-gram: 75.51%\n",
            "bi-gram: 29.82%\n",
            "tri-gram: 15.05%\n",
            "4-gram: 7.823%\n"
          ],
          "name": "stdout"
        }
      ]
    }
  ]
}